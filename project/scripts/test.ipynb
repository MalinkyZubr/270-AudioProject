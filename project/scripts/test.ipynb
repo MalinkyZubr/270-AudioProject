{
 "cells": [
  {
   "cell_type": "markdown",
   "id": "a7f07878",
   "metadata": {},
   "source": [
    "## File for testing some basic algorithms"
   ]
  },
  {
   "cell_type": "code",
   "execution_count": 5,
   "id": "957310c3",
   "metadata": {},
   "outputs": [
    {
     "data": {
      "text/plain": [
       "[0, 1, 2, 3, 4, 5, 6, 7, 8, 9, 10, 11, 12, 13, 14, 15]"
      ]
     },
     "execution_count": 5,
     "metadata": {},
     "output_type": "execute_result"
    }
   ],
   "source": [
    "x = [x for x in range(16)]\n",
    "x"
   ]
  },
  {
   "cell_type": "code",
   "execution_count": 14,
   "id": "abb50280",
   "metadata": {},
   "outputs": [
    {
     "name": "stdout",
     "output_type": "stream",
     "text": [
      "0\n",
      "2\n",
      "4\n",
      "6\n",
      "8\n",
      "10\n",
      "12\n",
      "14\n",
      "[0, 2, 4, 6, 8, 10, 12, 14]\n",
      "[1, 3, 5, 7, 9, 11, 13, 15]\n"
     ]
    }
   ],
   "source": [
    "max_ind = len(x)\n",
    "\n",
    "evens = [0 for x in range(8)]\n",
    "odds = [0 for x in range(8)]\n",
    "\n",
    "for y in range(0, max_ind, 2):\n",
    "    print(y)\n",
    "    evens[y // 2] = x[y]\n",
    "    odds[y // 2] = x[y + 1]\n",
    "\n",
    "print(evens)\n",
    "print(odds)"
   ]
  }
 ],
 "metadata": {
  "kernelspec": {
   "display_name": "script_venv",
   "language": "python",
   "name": "python3"
  },
  "language_info": {
   "codemirror_mode": {
    "name": "ipython",
    "version": 3
   },
   "file_extension": ".py",
   "mimetype": "text/x-python",
   "name": "python",
   "nbconvert_exporter": "python",
   "pygments_lexer": "ipython3",
   "version": "3.12.3"
  }
 },
 "nbformat": 4,
 "nbformat_minor": 5
}
