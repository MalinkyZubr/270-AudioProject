{
 "cells": [
  {
   "cell_type": "markdown",
   "id": "a7f07878",
   "metadata": {},
   "source": [
    "## File for testing some basic algorithms"
   ]
  },
  {
   "cell_type": "code",
   "execution_count": 1,
   "id": "b84a6a79",
   "metadata": {},
   "outputs": [],
   "source": [
    "import numpy as np\n",
    "import scipy as scp\n",
    "\n",
    "from scipy import fft"
   ]
  },
  {
   "cell_type": "code",
   "execution_count": 2,
   "id": "957310c3",
   "metadata": {},
   "outputs": [
    {
     "data": {
      "text/plain": [
       "[0, 1, 2, 3, 4, 5, 6, 7, 8, 9, 10, 11, 12, 13, 14, 15]"
      ]
     },
     "execution_count": 2,
     "metadata": {},
     "output_type": "execute_result"
    }
   ],
   "source": [
    "x = [x for x in range(16)]\n",
    "x"
   ]
  },
  {
   "cell_type": "code",
   "execution_count": 3,
   "id": "abb50280",
   "metadata": {},
   "outputs": [
    {
     "name": "stdout",
     "output_type": "stream",
     "text": [
      "0\n",
      "2\n",
      "4\n",
      "6\n",
      "8\n",
      "10\n",
      "12\n",
      "14\n",
      "[0, 2, 4, 6, 8, 10, 12, 14]\n",
      "[1, 3, 5, 7, 9, 11, 13, 15]\n"
     ]
    }
   ],
   "source": [
    "max_ind = len(x)\n",
    "\n",
    "evens = [0 for x in range(8)]\n",
    "odds = [0 for x in range(8)]\n",
    "\n",
    "for y in range(0, max_ind, 2):\n",
    "    print(y)\n",
    "    evens[y // 2] = x[y]\n",
    "    odds[y // 2] = x[y + 1]\n",
    "\n",
    "print(evens)\n",
    "print(odds)"
   ]
  },
  {
   "cell_type": "code",
   "execution_count": 4,
   "id": "06bbef5a",
   "metadata": {},
   "outputs": [
    {
     "data": {
      "text/plain": [
       "array([0.00000000e+00, 7.08073418e+05, 8.26821810e+05, 1.99148567e+04,\n",
       "       5.72750017e+05, 9.19535765e+05, 7.80730206e+04, 4.31631391e+05,\n",
       "       9.78829740e+05, 1.69841646e+05, 2.95958969e+05, 9.99980413e+05,\n",
       "       2.87910496e+05, 1.76540339e+05, 9.81302933e+05, 4.22874275e+05,\n",
       "       8.28883197e+04, 9.24285137e+05, 5.63981845e+05, 2.24631780e+04,\n",
       "       8.33469031e+05, 6.99992657e+05, 7.83456762e+01, 7.16088972e+05,\n",
       "       8.20072170e+05, 1.75169858e+04, 5.81495390e+05, 9.14654916e+05,\n",
       "       7.33899461e+04, 4.40409932e+05, 9.76206490e+05, 1.63246419e+05])"
      ]
     },
     "execution_count": 4,
     "metadata": {},
     "output_type": "execute_result"
    }
   ],
   "source": [
    "# exmaple sine vector\n",
    "time = [x for x in range(32)]\n",
    "\n",
    "sined = np.sin(time) * 1000\n",
    "\n",
    "(np.real(sined) ** 2) + (np.imag(sined) ** 2)\n"
   ]
  },
  {
   "cell_type": "code",
   "execution_count": 5,
   "id": "8c7d32f4",
   "metadata": {},
   "outputs": [],
   "source": [
    "mult = 1000\n",
    "twiddle = ((5 / 1000) + (7j / 1000))\n",
    "\n",
    "even = (10 + 15j)\n",
    "odd = (20 + 25j)"
   ]
  },
  {
   "cell_type": "code",
   "execution_count": 6,
   "id": "57db2783",
   "metadata": {},
   "outputs": [
    {
     "name": "stdout",
     "output_type": "stream",
     "text": [
      "(9925+15265j)\n",
      "(10075+14735j)\n"
     ]
    }
   ],
   "source": [
    "p = even * mult\n",
    "q = odd * twiddle * mult\n",
    "\n",
    "\n",
    "sum = p + q\n",
    "diff = p - q\n",
    "print(sum)\n",
    "print(diff)"
   ]
  },
  {
   "cell_type": "code",
   "execution_count": 7,
   "id": "d413caa5",
   "metadata": {},
   "outputs": [
    {
     "name": "stdout",
     "output_type": "stream",
     "text": [
      "(9925+15265j)\n",
      "(10075+14735j)\n"
     ]
    }
   ],
   "source": [
    "\n",
    "p = 10 + 15j\n",
    "q = 20 + 25j\n",
    "\n",
    "mult = 1000\n",
    "twiddle = 5 + 7j\n",
    "even_input_r = np.real(p) * mult\n",
    "even_input_i = np.imag(p) * mult\n",
    "\n",
    "odd_input_r = np.real(q)\n",
    "odd_input_i = np.imag(q)\n",
    "\n",
    "q_odd_real = (odd_input_r * np.real(twiddle)) - (odd_input_i * np.imag(twiddle))\n",
    "q_odd_imag = (odd_input_r * np.imag(twiddle)) + (odd_input_i * np.real(twiddle))\n",
    "\n",
    "sumy = complex(even_input_r + q_odd_real, even_input_i + q_odd_imag)\n",
    "diffy = complex(even_input_r - q_odd_real, even_input_i - q_odd_imag)\n",
    "\n",
    "print(sumy)\n",
    "print(diffy)"
   ]
  },
  {
   "cell_type": "code",
   "execution_count": 13,
   "id": "1245f8b4",
   "metadata": {},
   "outputs": [
    {
     "name": "stdout",
     "output_type": "stream",
     "text": [
      "(13340-0j)\n",
      "0j\n",
      "(7.923070424951838e-15+9.60115897731838e-14j)\n",
      "(6.048023836129324e-14+4.621017316167779e-14j)\n",
      "0j\n",
      "(-2054.6015510839147+4407.404217424966j)\n",
      "0j\n",
      "(2.796231242682619e-14+2.4666795180078545e-14j)\n",
      "(6.01981465919691e-14-1.0324790309899765e-14j)\n",
      "0j\n",
      "(-1865+1805j)\n",
      "0j\n",
      "(-7.77637290383322e-14+4.373651360616653e-14j)\n",
      "(-1.0396729980463098e-14+7.872809909614484e-14j)\n",
      "0j\n",
      "(-1835.3984489160853+747.4042174249657j)\n",
      "0j\n",
      "(-4.291465591493015e-14-7.851130754388505e-15j)\n",
      "(-2.548865287131493e-14+4.19502858571175e-14j)\n",
      "0j\n",
      "(-1830-0j)\n",
      "-0j\n",
      "(-2.548865287131493e-14-4.19502858571175e-14j)\n",
      "(-4.291465591493015e-14+7.851130754388505e-15j)\n",
      "-0j\n",
      "(-1835.3984489160853-747.4042174249657j)\n",
      "-0j\n",
      "(-1.0396729980463098e-14-7.872809909614484e-14j)\n",
      "(-7.77637290383322e-14-4.373651360616653e-14j)\n",
      "-0j\n",
      "(-1865-1805j)\n",
      "-0j\n",
      "(6.01981465919691e-14+1.0324790309899765e-14j)\n",
      "(2.796231242682619e-14-2.4666795180078545e-14j)\n",
      "-0j\n",
      "(-2054.6015510839147-4407.404217424966j)\n",
      "-0j\n",
      "(6.048023836129324e-14-4.621017316167779e-14j)\n",
      "(7.923070424951838e-15-9.60115897731838e-14j)\n",
      "-0j\n"
     ]
    }
   ],
   "source": [
    "# exmaple sine vector\n",
    "time = [x * 0.1 for x in range(8)]\n",
    "\n",
    "sined = (1000 * np.sin(5 * time)).astype(int)\n",
    "\n",
    "fft_t = list(fft.fft(sined))\n",
    "\n",
    "#fft_m = [1000 * ((np.real(x) ** 2) + (np.imag(x) ** 2)) for x in fft_t]\n",
    "\n",
    "for x in fft_t:\n",
    "    print(x)"
   ]
  },
  {
   "cell_type": "code",
   "execution_count": 9,
   "id": "5ec46eac",
   "metadata": {},
   "outputs": [
    {
     "data": {
      "text/plain": [
       "array([   0.        ,  841.47098481,  909.29742683,  141.12000806,\n",
       "       -756.80249531, -958.92427466, -279.4154982 ,  656.98659872,\n",
       "        989.35824662,  412.11848524, -544.02111089, -999.99020655,\n",
       "       -536.572918  ,  420.16703683,  990.60735569,  650.28784016,\n",
       "       -287.90331667, -961.39749188, -750.98724677,  149.87720966,\n",
       "        912.94525073,  836.65563854,   -8.85130929, -846.22040418,\n",
       "       -905.57836201, -132.3517501 ,  762.55845048,  956.3759284 ,\n",
       "        270.90578831, -663.63388421, -988.03162409, -404.03764532])"
      ]
     },
     "execution_count": 9,
     "metadata": {},
     "output_type": "execute_result"
    }
   ],
   "source": [
    "sined"
   ]
  },
  {
   "cell_type": "code",
   "execution_count": 10,
   "id": "27d1e0b4",
   "metadata": {},
   "outputs": [],
   "source": [
    "def get_even_index_values(buffer: list[float]) -> list[float]:\n",
    "    return buffer[::2]\n",
    "\n",
    "def get_odd_index_values(buffer: list[float]) -> list[float]:\n",
    "    return buffer[1::2]\n",
    "\n",
    "def fft_iteration(buffer: list[float], length: int, stride: int) -> list[float]: # stride start as 1\n",
    "    if(length == 1):\n",
    "        return buffer * 1000\n",
    "    else:\n",
    "        even_values = get_even_index_values(buffer)\n",
    "        odd_values = get_odd_index_values(buffer)\n",
    "\n",
    "        even_fft = fft_iteration(even_values, length // 2, stride * 2)\n",
    "        odd_fft = fft_iteration(odd_values, length // 2, stride * 2)\n",
    "    \n",
    "    reassembled = [0 for x in range(length)]\n",
    "\n",
    "    for index in range(length // 2):\n",
    "        p = even_fft[index]\n",
    "        #print((np.e ** (-2j * np.pi * index / length)))\n",
    "        cd = odd_fft[index] * np.e ** (-2j * np.pi * index / length)\n",
    "        q = complex(int(np.real(cd)), int(np.imag(cd)))\n",
    "\n",
    "        reassembled[index] = p + q\n",
    "        reassembled[index + (length // 2)] = p - q\n",
    "\n",
    "    return reassembled"
   ]
  },
  {
   "cell_type": "code",
   "execution_count": 11,
   "id": "91b030bb",
   "metadata": {},
   "outputs": [
    {
     "name": "stdout",
     "output_type": "stream",
     "text": [
      "[(4+1j), (5+2j), (6+3j), (7+4j), (8+5j), (9+6j), (10+7j), (11+8j), (12+9j), (13+10j), (14+11j), (15+12j), (16+13j), (17+14j), (18+15j), (19+16j)]\n",
      "[(2+5j), (3+6j), (4+7j), (5+8j), (6+9j), (7+10j), (8+11j), (9+12j), (10+13j), (11+14j), (12+15j), (13+16j), (14+17j), (15+18j), (16+19j), (17+20j)]\n",
      "[(6000+6000j), (9112.89777330646+7299.440716370998j), (12374.302156600776+7936.422998118647j), (15601.909925669544+7873.905733322351j), (18606.601717798214+7121.320343559643j), (21203.687754162667+5735.415044078206j), (23224.142316544872+3818.4814959256946j), (24525.23626298392+1514.016340564467j), (25000-1000j), (24585.000383467817-3519.9025926613303j), (23265.991799288226-5826.805875611786j), (21081.1007675859-7698.228688246723j), (18121.320343559644-8920.310216782971j), (14528.220009814659-9300.00651673985j), (10488.91269475612-8676.646035555885j), (6228.4566734676555-6932.2410823387945j), (2000-4000j), (887.1022266935397-3299.4407163709984j), (-374.30215660077556-1936.4229981186472j), (-1601.9099256695445+126.0942666776491j), (-2606.601717798212+2878.6796564403567j), (-3203.687754162669+6264.584955921794j), (-3224.1423165448723+10181.518504074305j), (-2525.236262983921+14485.983659435533j), (-1000+19000j), (1414.9996165321827+23519.902592661332j), (4734.008200711776+27826.805875611786j), (8918.899232414098+31698.228688246723j), (13878.679656440356+34920.31021678297j), (19471.779990185343+37300.00651673985j), (25511.08730524388+38676.64603555588j), (31771.543326532345+38932.24108233879j)]\n"
     ]
    }
   ],
   "source": [
    "# butterfly test\n",
    "\n",
    "length = 32\n",
    "even_fft = [complex(i + 4, i + 1) for i in range(length // 2)]\n",
    "print(even_fft)\n",
    "odd_fft = [complex(i + 2, i + 5) for i in range(length // 2)]\n",
    "print(odd_fft)\n",
    "# even_fft = [10 + 15j]\n",
    "# odd_fft = [20 + 25j]\n",
    "\n",
    "reassembled = [0 for x in range(length)]\n",
    "\n",
    "for index in range(length // 2):\n",
    "    p = even_fft[index] * 1000\n",
    "    q = odd_fft[index] * ((np.e ** (-2j * np.pi * index / length)) * 1000)\n",
    "\n",
    "    reassembled[index] = p + q\n",
    "    reassembled[index + (length // 2)] = p - q\n",
    "\n",
    "\n",
    "print(reassembled)"
   ]
  },
  {
   "cell_type": "code",
   "execution_count": 12,
   "id": "797df1b1",
   "metadata": {},
   "outputs": [
    {
     "name": "stdout",
     "output_type": "stream",
     "text": [
      "[  0 247 479 681 841 948 997 983]\n",
      "Input: 0 Out: 5176000.0 + 0.0j\n",
      "Input: 247 Out: -1123135.0 + 1227228.0j\n",
      "Input: 479 Out: -635000.0 + 469000.0j\n",
      "Input: 681 Out: -558865.0 + 191228.0j\n",
      "Input: 841 Out: -542000.0 + 0.0j\n",
      "Input: 948 Out: -558865.0 + -191228.0j\n",
      "Input: 997 Out: -635000.0 + -469000.0j\n",
      "Input: 983 Out: -1123135.0 + -1227228.0j\n"
     ]
    }
   ],
   "source": [
    "time = np.asarray([x for x in range(8)])\n",
    "\n",
    "sined = (1000 * np.sin(time / 4)).astype(int)\n",
    "\n",
    "# sined = [10 + 15j, 20 + 25j]\n",
    "print(sined)\n",
    "\n",
    "bins = fft_iteration(sined, len(sined), 1)\n",
    "\n",
    "for i, b in enumerate(bins):\n",
    "    print(f\"Input: {sined[i]} Out: {np.real(b)} + {np.imag(b)}j\")"
   ]
  },
  {
   "cell_type": "code",
   "execution_count": null,
   "id": "b2ea6040",
   "metadata": {},
   "outputs": [],
   "source": []
  }
 ],
 "metadata": {
  "kernelspec": {
   "display_name": "Python 3",
   "language": "python",
   "name": "python3"
  },
  "language_info": {
   "codemirror_mode": {
    "name": "ipython",
    "version": 3
   },
   "file_extension": ".py",
   "mimetype": "text/x-python",
   "name": "python",
   "nbconvert_exporter": "python",
   "pygments_lexer": "ipython3",
   "version": "3.12.3"
  }
 },
 "nbformat": 4,
 "nbformat_minor": 5
}
