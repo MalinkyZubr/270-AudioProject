{
 "cells": [
  {
   "cell_type": "markdown",
   "id": "a7f07878",
   "metadata": {},
   "source": [
    "## File for testing some basic algorithms"
   ]
  },
  {
   "cell_type": "code",
   "execution_count": 2,
   "id": "b84a6a79",
   "metadata": {},
   "outputs": [],
   "source": [
    "import numpy as np\n",
    "import scipy as scp\n",
    "\n",
    "from scipy import fft"
   ]
  },
  {
   "cell_type": "code",
   "execution_count": 2,
   "id": "957310c3",
   "metadata": {},
   "outputs": [
    {
     "data": {
      "text/plain": [
       "[0, 1, 2, 3, 4, 5, 6, 7, 8, 9, 10, 11, 12, 13, 14, 15]"
      ]
     },
     "execution_count": 2,
     "metadata": {},
     "output_type": "execute_result"
    }
   ],
   "source": [
    "x = [x for x in range(16)]\n",
    "x"
   ]
  },
  {
   "cell_type": "code",
   "execution_count": 3,
   "id": "abb50280",
   "metadata": {},
   "outputs": [
    {
     "name": "stdout",
     "output_type": "stream",
     "text": [
      "0\n",
      "2\n",
      "4\n",
      "6\n",
      "8\n",
      "10\n",
      "12\n",
      "14\n",
      "[0, 2, 4, 6, 8, 10, 12, 14]\n",
      "[1, 3, 5, 7, 9, 11, 13, 15]\n"
     ]
    }
   ],
   "source": [
    "max_ind = len(x)\n",
    "\n",
    "evens = [0 for x in range(8)]\n",
    "odds = [0 for x in range(8)]\n",
    "\n",
    "for y in range(0, max_ind, 2):\n",
    "    print(y)\n",
    "    evens[y // 2] = x[y]\n",
    "    odds[y // 2] = x[y + 1]\n",
    "\n",
    "print(evens)\n",
    "print(odds)"
   ]
  },
  {
   "cell_type": "code",
   "execution_count": 21,
   "id": "06bbef5a",
   "metadata": {},
   "outputs": [
    {
     "data": {
      "text/plain": [
       "array([0.00000000e+00, 7.08073418e+05, 8.26821810e+05, 1.99148567e+04,\n",
       "       5.72750017e+05, 9.19535765e+05, 7.80730206e+04, 4.31631391e+05,\n",
       "       9.78829740e+05, 1.69841646e+05, 2.95958969e+05, 9.99980413e+05,\n",
       "       2.87910496e+05, 1.76540339e+05, 9.81302933e+05, 4.22874275e+05,\n",
       "       8.28883197e+04, 9.24285137e+05, 5.63981845e+05, 2.24631780e+04,\n",
       "       8.33469031e+05, 6.99992657e+05, 7.83456762e+01, 7.16088972e+05,\n",
       "       8.20072170e+05, 1.75169858e+04, 5.81495390e+05, 9.14654916e+05,\n",
       "       7.33899461e+04, 4.40409932e+05, 9.76206490e+05, 1.63246419e+05])"
      ]
     },
     "execution_count": 21,
     "metadata": {},
     "output_type": "execute_result"
    }
   ],
   "source": [
    "# exmaple sine vector\n",
    "time = [x for x in range(32)]\n",
    "\n",
    "sined = np.sin(time) * 1000\n",
    "\n",
    "(np.real(sined) ** 2) + (np.imag(sined) ** 2)\n"
   ]
  },
  {
   "cell_type": "code",
   "execution_count": 34,
   "id": "8c7d32f4",
   "metadata": {},
   "outputs": [],
   "source": [
    "mult = 1000\n",
    "twiddle = ((5 / 1000) + (7j / 1000))\n",
    "\n",
    "even = (10 + 15j)\n",
    "odd = (20 + 25j)"
   ]
  },
  {
   "cell_type": "code",
   "execution_count": null,
   "id": "57db2783",
   "metadata": {},
   "outputs": [
    {
     "name": "stdout",
     "output_type": "stream",
     "text": [
      "(9.925+15.265j)\n",
      "(10.075+14.735j)\n"
     ]
    }
   ],
   "source": [
    "p = even * mult\n",
    "q = odd * twiddle * mult\n",
    "\n",
    "\n",
    "sum = p + q\n",
    "diff = p - q\n",
    "print(sum)\n",
    "print(diff)"
   ]
  },
  {
   "cell_type": "code",
   "execution_count": 30,
   "id": "d413caa5",
   "metadata": {},
   "outputs": [
    {
     "name": "stdout",
     "output_type": "stream",
     "text": [
      "(9925+15265j)\n",
      "(10075+14735j)\n"
     ]
    }
   ],
   "source": [
    "\n",
    "p = 10 + 15j\n",
    "q = 20 + 25j\n",
    "\n",
    "mult = 1000\n",
    "twiddle = 5 + 7j\n",
    "even_input_r = np.real(p) * mult\n",
    "even_input_i = np.imag(p) * mult\n",
    "\n",
    "odd_input_r = np.real(q)\n",
    "odd_input_i = np.imag(q)\n",
    "\n",
    "q_odd_real = (odd_input_r * np.real(twiddle)) - (odd_input_i * np.imag(twiddle))\n",
    "q_odd_imag = (odd_input_r * np.imag(twiddle)) + (odd_input_i * np.real(twiddle))\n",
    "\n",
    "sumy = complex(even_input_r + q_odd_real, even_input_i + q_odd_imag)\n",
    "diffy = complex(even_input_r - q_odd_real, even_input_i - q_odd_imag)\n",
    "\n",
    "print(sumy)\n",
    "print(diffy)"
   ]
  },
  {
   "cell_type": "code",
   "execution_count": 10,
   "id": "27d1e0b4",
   "metadata": {},
   "outputs": [],
   "source": [
    "def get_even_index_values(buffer: list[float]) -> list[float]:\n",
    "    return buffer[::2]\n",
    "\n",
    "def get_odd_index_values(buffer: list[float]) -> list[float]:\n",
    "    return buffer[1::2]\n",
    "\n",
    "def fft_iteration(buffer: list[float], length: int, stride: int) -> list[float]: # stride start as 1\n",
    "    if(length == 1):\n",
    "        return buffer\n",
    "    else:\n",
    "        even_values = get_even_index_values(buffer)\n",
    "        odd_values = get_odd_index_values(buffer)\n",
    "\n",
    "        even_fft = fft_iteration(even_values, length // 2, stride * 2)\n",
    "        odd_fft = fft_iteration(odd_values, length // 2, stride * 2)\n",
    "    \n",
    "    reassembled = [0 for x in range(length)]\n",
    "\n",
    "    for index in range(length // 2):\n",
    "        p = even_fft[index]\n",
    "        q = odd_fft[index] * (np.e ** (-2j * np.pi * index / length))\n",
    "\n",
    "        reassembled[index] = p + q\n",
    "        reassembled[index + (length // 2)] = p - q\n",
    "\n",
    "    return reassembled"
   ]
  },
  {
   "cell_type": "code",
   "execution_count": 13,
   "id": "1245f8b4",
   "metadata": {},
   "outputs": [
    {
     "data": {
      "text/plain": [
       "[(1891.8884196934455-0j),\n",
       " (-909.2974268256817-700.3509767480292j),\n",
       " (-73.29356604208203-0j),\n",
       " (-909.2974268256817+700.3509767480292j)]"
      ]
     },
     "execution_count": 13,
     "metadata": {},
     "output_type": "execute_result"
    }
   ],
   "source": [
    "# exmaple sine vector\n",
    "time = [x for x in range(4)]\n",
    "\n",
    "sined = np.sin(time) * 1000\n",
    "\n",
    "list(fft.fft(sined))"
   ]
  },
  {
   "cell_type": "code",
   "execution_count": 18,
   "id": "5ec46eac",
   "metadata": {},
   "outputs": [
    {
     "data": {
      "text/plain": [
       "array([  0.        , 841.47098481, 909.29742683, 141.12000806])"
      ]
     },
     "execution_count": 18,
     "metadata": {},
     "output_type": "execute_result"
    }
   ],
   "source": [
    "sined"
   ]
  },
  {
   "cell_type": "code",
   "execution_count": 17,
   "id": "0e099c00",
   "metadata": {},
   "outputs": [
    {
     "data": {
      "text/plain": [
       "[(1891.8884196934455+0j),\n",
       " (-909.2974268256817-700.3509767480292j),\n",
       " (-73.29356604208203+0j),\n",
       " (-909.2974268256817+700.3509767480292j)]"
      ]
     },
     "execution_count": 17,
     "metadata": {},
     "output_type": "execute_result"
    }
   ],
   "source": [
    "bins = fft_iteration(sined, len(sined), 1)\n",
    "bins"
   ]
  }
 ],
 "metadata": {
  "kernelspec": {
   "display_name": "base",
   "language": "python",
   "name": "python3"
  },
  "language_info": {
   "codemirror_mode": {
    "name": "ipython",
    "version": 3
   },
   "file_extension": ".py",
   "mimetype": "text/x-python",
   "name": "python",
   "nbconvert_exporter": "python",
   "pygments_lexer": "ipython3",
   "version": "3.11.9"
  }
 },
 "nbformat": 4,
 "nbformat_minor": 5
}
